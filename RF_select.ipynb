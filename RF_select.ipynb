{
 "cells": [
  {
   "cell_type": "code",
   "execution_count": 9,
   "metadata": {},
   "outputs": [],
   "source": [
    "import pandas as pd\n",
    "import numpy as np\n",
    "import matplotlib.pyplot as plt\n",
    "import seaborn\n",
    "\n",
    "file=open(\"E://数据挖掘练习//客户逾期预测//train_data.csv\",encoding=\"utf_8_sig\")\n",
    "data=pd.read_csv(file)\n",
    "data=data.dropna()\n",
    "x_train=data.iloc[:,2:]\n",
    "y_train=data.iloc[:,0]\n"
   ]
  },
  {
   "cell_type": "markdown",
   "metadata": {},
   "source": [
    "使用随机森林模型对特征重要性进行评估，得出特征重要性的排序结果"
   ]
  },
  {
   "cell_type": "code",
   "execution_count": 20,
   "metadata": {
    "scrolled": true
   },
   "outputs": [
    {
     "name": "stdout",
     "output_type": "stream",
     "text": [
      " 1) history_fail_fee               0.048850\n",
      " 2) trans_fail_top_count_enum_last_1_month 0.047682\n",
      " 3) loans_score                    0.036801\n",
      " 4) apply_score                    0.030569\n",
      " 5) latest_one_month_fail          0.029170\n",
      " 6) loans_overdue_count            0.023549\n",
      " 7) trans_amount_3_month           0.019316\n",
      " 8) max_cumulative_consume_later_1_month 0.019185\n",
      " 9) consfin_avg_limit              0.017704\n",
      "10) repayment_capability           0.017653\n",
      "11) latest_query_day               0.017204\n",
      "12) trans_day_last_12_month        0.016757\n",
      "13) historical_trans_amount        0.016753\n",
      "14) abs                            0.016692\n",
      "15) first_transaction_day          0.016544\n",
      "16) avg_price_last_12_month        0.016445\n",
      "17) loans_avg_limit                0.016286\n",
      "18) loans_latest_day               0.016284\n",
      "19) trans_activity_day             0.015915\n",
      "20) consfin_credit_limit           0.015406\n",
      "21) historical_trans_day           0.015363\n",
      "22) trans_days_interval_filter     0.015318\n",
      "23) pawns_auctions_trusts_consume_last_6_month 0.015236\n",
      "24) trans_top_time_last_1_month    0.014756\n",
      "25) history_suc_fee                0.014676\n",
      "26) trans_fail_top_count_enum_last_6_month 0.014396\n",
      "27) trans_top_time_last_6_month    0.014300\n",
      "28) trans_fail_top_count_enum_last_12_month 0.014176\n",
      "29) loans_long_time                0.014169\n",
      "30) loans_max_limit                0.013659\n",
      "31) consfin_max_limit              0.013538\n",
      "32) number_of_trans_from_2011      0.013384\n",
      "33) trans_days_interval            0.013141\n",
      "34) rank_trad_1_month              0.013023\n",
      "35) loans_count                    0.012818\n",
      "36) loans_settle_count             0.012796\n",
      "37) apply_credibility              0.012612\n",
      "38) loans_credit_limit             0.012241\n",
      "39) trans_activity_month           0.012065\n",
      "40) latest_six_month_loan          0.011880\n",
      "41) query_sum_count                0.011765\n",
      "42) consfin_credibility            0.011458\n",
      "43) latest_six_month_apply         0.011233\n",
      "44) latest_three_month_apply       0.011069\n",
      "45) consume_mini_time_last_1_month 0.011069\n",
      "46) take_amount_in_later_12_month_highest 0.010779\n",
      "47) query_org_count                0.010634\n",
      "48) middle_volume_percent          0.010429\n",
      "49) loans_org_count_behavior       0.010328\n",
      "50) pawns_auctions_trusts_consume_last_1_month 0.010200\n",
      "51) query_finance_count            0.010170\n",
      "52) latest_one_month_suc           0.009856\n",
      "53) loans_credibility_limit        0.009856\n",
      "54) max_consume_count_later_6_month 0.009593\n",
      "55) latest_one_month_apply         0.009530\n",
      "56) loans_product_count            0.009442\n",
      "57) loans_credibility_behavior     0.009259\n",
      "58) latest_three_month_loan        0.009114\n",
      "59) loans_cash_count               0.008988\n",
      "60) loans_org_count_current        0.008967\n",
      "61) consfin_product_count          0.008938\n",
      "62) query_cash_count               0.008463\n",
      "63) consfin_org_count_current      0.008033\n",
      "64) consfin_org_count_behavior     0.007961\n",
      "65) avg_consume_less_12_valid_month 0.007398\n",
      "66) low_volume_percent             0.007176\n",
      "67) regional_mobility              0.005428\n",
      "68) cross_consume_count_last_1_month 0.004429\n",
      "69) latest_one_month_loan          0.004344\n",
      "70) first_city                     0.001795\n",
      "71) third_city                     0.001744\n",
      "72) foreign_city                   0.000806\n",
      "73) railway_consume_count_last_12_month 0.000585\n",
      "74) second_city                    0.000494\n",
      "75) jewelry_consume_count_last_6_month 0.000166\n",
      "76) is_high_user                   0.000137\n",
      "77) other_city                     0.000047\n"
     ]
    }
   ],
   "source": [
    "from sklearn.ensemble import RandomForestClassifier as RF\n",
    "labels=x_train.columns\n",
    "\n",
    "forest=RF(n_estimators=10000,random_state=2018)\n",
    "forest.fit(x_train,y_train)\n",
    "importances=forest.feature_importances_\n",
    "indexs=np.argsort(importances)[::-1]\n",
    "for i in range(len(importances)):\n",
    "    print(\"%2d) %-*s %f\" % (i + 1, 30,labels[indexs[i]],importances[indexs[i]]))"
   ]
  },
  {
   "cell_type": "markdown",
   "metadata": {},
   "source": [
    "将重要性系数位于0.01以下的特征进行删除"
   ]
  },
  {
   "cell_type": "code",
   "execution_count": 22,
   "metadata": {},
   "outputs": [
    {
     "name": "stdout",
     "output_type": "stream",
     "text": [
      "       middle_volume_percent  take_amount_in_later_12_month_highest  \\\n",
      "count            3075.000000                            3075.000000   \n",
      "mean                0.904937                               0.028926   \n",
      "std                 0.135888                               0.059652   \n",
      "min                 0.110000                               0.000000   \n",
      "25%                 0.880000                               0.000000   \n",
      "50%                 0.960000                               0.007353   \n",
      "75%                 0.990000                               0.029412   \n",
      "max                 1.000000                               1.000000   \n",
      "\n",
      "       trans_activity_month  trans_activity_day  trans_days_interval_filter  \\\n",
      "count           3075.000000         3075.000000                 3075.000000   \n",
      "mean               0.779730            0.368053                    0.099677   \n",
      "std                0.223571            0.190502                    0.074999   \n",
      "min                0.022727            0.000000                    0.017544   \n",
      "25%                0.625000            0.216667                    0.056140   \n",
      "50%                0.852273            0.350000                    0.080702   \n",
      "75%                1.000000            0.495000                    0.112281   \n",
      "max                1.000000            1.000000                    0.915789   \n",
      "\n",
      "       trans_days_interval  repayment_capability  number_of_trans_from_2011  \\\n",
      "count          3075.000000           3075.000000                3075.000000   \n",
      "mean              0.074797              0.007907                   0.244021   \n",
      "std               0.067910              0.025050                   0.121986   \n",
      "min               0.000000              0.000000                   0.000000   \n",
      "25%               0.034783              0.003521                   0.158537   \n",
      "50%               0.056522              0.004977                   0.219512   \n",
      "75%               0.095652              0.007205                   0.304878   \n",
      "max               1.000000              1.000000                   1.000000   \n",
      "\n",
      "       historical_trans_amount  historical_trans_day        ...         \\\n",
      "count              3075.000000           3075.000000        ...          \n",
      "mean                  0.017625              0.191159        ...          \n",
      "std                   0.026101              0.112233        ...          \n",
      "min                   0.000116              0.000000        ...          \n",
      "25%                   0.006108              0.107778        ...          \n",
      "50%                   0.012339              0.172222        ...          \n",
      "75%                   0.022378              0.255556        ...          \n",
      "max                   1.000000              0.898889        ...          \n",
      "\n",
      "       loans_long_time  loans_credit_limit  loans_max_limit  loans_avg_limit  \\\n",
      "count      3075.000000         3075.000000      3075.000000      3075.000000   \n",
      "mean          0.926698            0.304720         0.341151         0.265335   \n",
      "std           0.105428            0.101289         0.145795         0.083605   \n",
      "min           0.000000            0.000000         0.000000         0.000000   \n",
      "25%           0.907186            0.246377         0.240000         0.224638   \n",
      "50%           0.967066            0.304348         0.320000         0.262754   \n",
      "75%           0.988024            0.347826         0.430000         0.304348   \n",
      "max           1.000000            1.000000         0.980000         1.000000   \n",
      "\n",
      "       consfin_credit_limit  consfin_credibility  consfin_max_limit  \\\n",
      "count           3075.000000          3075.000000        3075.000000   \n",
      "mean               0.106142             0.876494           0.061536   \n",
      "std                0.084007             0.162449           0.053647   \n",
      "min                0.000000             0.000000           0.000000   \n",
      "25%                0.056257             0.885057           0.029279   \n",
      "50%                0.088404             0.908046           0.054054   \n",
      "75%                0.134902             0.919540           0.076577   \n",
      "max                0.950631             1.000000           1.000000   \n",
      "\n",
      "       consfin_avg_limit  latest_query_day  loans_latest_day  \n",
      "count        3075.000000       3075.000000       3075.000000  \n",
      "mean            0.097039          0.071740          0.174311  \n",
      "std             0.067679          0.104899          0.162663  \n",
      "min             0.000000          0.000000          0.000000  \n",
      "25%             0.057971          0.019337          0.036923  \n",
      "50%             0.085749          0.044199          0.116923  \n",
      "75%             0.120978          0.071823          0.280000  \n",
      "max             1.000000          1.000000          0.969231  \n",
      "\n",
      "[8 rows x 51 columns]\n"
     ]
    }
   ],
   "source": [
    "threshold=0.01\n",
    "x_selected = x_train.loc[:, importances > threshold]\n",
    "print(x_selected.describe())"
   ]
  },
  {
   "cell_type": "code",
   "execution_count": 23,
   "metadata": {},
   "outputs": [],
   "source": [
    "x_selected.to_csv(\"E://数据挖掘练习//客户逾期预测//after_RF_train.csv\",header=True,index=False,\n",
    "                  encoding='utf_8_sig')"
   ]
  },
  {
   "cell_type": "code",
   "execution_count": null,
   "metadata": {},
   "outputs": [],
   "source": []
  }
 ],
 "metadata": {
  "kernelspec": {
   "display_name": "Python 3",
   "language": "python",
   "name": "python3"
  },
  "language_info": {
   "codemirror_mode": {
    "name": "ipython",
    "version": 3
   },
   "file_extension": ".py",
   "mimetype": "text/x-python",
   "name": "python",
   "nbconvert_exporter": "python",
   "pygments_lexer": "ipython3",
   "version": "3.6.6"
  }
 },
 "nbformat": 4,
 "nbformat_minor": 2
}
